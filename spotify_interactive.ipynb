{
 "cells": [
  {
   "cell_type": "markdown",
   "metadata": {},
   "source": [
    "## Spotify Interactive - Beta\n",
    "This interactive notebook will walk you through the process of exploring your music intake as well as training an algorithm to correctly predict music that you will enjoy. To interact with this notebook you will need to have all of the required libraries downloaded and installed as well as Python. In addition, the user will need to sign up for Spotify for Developers here: https://developer.spotify.com/dashboard/login  You do not need to have Spotify Premium to sign up."
   ]
  },
  {
   "cell_type": "code",
   "execution_count": 1,
   "metadata": {},
   "outputs": [],
   "source": [
    "%matplotlib inline\n",
    "import json\n",
    "import numpy as np\n",
    "import pandas as pd\n",
    "import requests\n",
    "import spotipy\n",
    "from spotipy.oauth2 import SpotifyClientCredentials\n",
    "import spotipy.util as util"
   ]
  },
  {
   "cell_type": "markdown",
   "metadata": {},
   "source": [
    "From your Spotify dashboard, get your username, client id, secret client id, and redirect website link. The redirct link can be made by going to Settings - Redirect URIs - Add. Add a simple redirect like a localhost. "
   ]
  },
  {
   "cell_type": "code",
   "execution_count": null,
   "metadata": {},
   "outputs": [],
   "source": [
    "username=\"\"\n",
    "cid =\"\" \n",
    "secret = \"\"\n",
    "redirect=\"\""
   ]
  },
  {
   "cell_type": "markdown",
   "metadata": {},
   "source": [
    "Input the scope you are interested in here. Scopes define the kind of query that you are going to make into your data. All of the scope options can be found here: https://developer.spotify.com/documentation/general/guides/scopes/#user-read-recently-played"
   ]
  },
  {
   "cell_type": "code",
   "execution_count": null,
   "metadata": {},
   "outputs": [],
   "source": [
    "# Suggested scope: playlist-read-private\n",
    "scope = \"\""
   ]
  },
  {
   "cell_type": "markdown",
   "metadata": {},
   "source": [
    "The next step is to authorize access to your backend Spotify data. Start by running the following code and then inserting the output into the variable `token`."
   ]
  },
  {
   "cell_type": "code",
   "execution_count": null,
   "metadata": {},
   "outputs": [],
   "source": [
    "util.prompt_for_user_token(username, scope, client_id=cid, client_secret=secret, redirect_uri=redirect)"
   ]
  },
  {
   "cell_type": "code",
   "execution_count": null,
   "metadata": {},
   "outputs": [],
   "source": [
    "token = \"\"\n",
    "sp = spotipy.Spotify(auth=token)"
   ]
  },
  {
   "cell_type": "markdown",
   "metadata": {},
   "source": [
    "Next we will choose the playlist that you want to use to explore your music tastes. Run the below code and insert into the variable `playlist` the name of the playlist you are interested in exploring. You can add the variabl `offset` with the desired offset number if you hvae more than 50 playlists. The printed result will be the playlist name and the playlist id."
   ]
  },
  {
   "cell_type": "code",
   "execution_count": null,
   "metadata": {},
   "outputs": [],
   "source": [
    "playlist = \"\"\n",
    "playlists = sp.current_user_playlists()\n",
    "for i in playlists['items']:\n",
    "    if i['name'] == playlist:\n",
    "        print(i['name'])\n",
    "        print(i['id'])"
   ]
  },
  {
   "cell_type": "markdown",
   "metadata": {},
   "source": [
    "Now let's explore the songs in the playlist that you chose. Plug the playlist id into the `playlist_id` variable and run the code. The output will list every song in the playlist that you chose with that song's Spotify id."
   ]
  },
  {
   "cell_type": "code",
   "execution_count": null,
   "metadata": {},
   "outputs": [],
   "source": [
    "songs = sp.user_playlist(username, playlist_id=\"\")\n",
    "for i in songs['tracks']['items']:\n",
    "    print('track: ' + i['track']['name'])\n",
    "    print('id: ' + i['track']['id'])"
   ]
  },
  {
   "cell_type": "markdown",
   "metadata": {},
   "source": [
    "As a warmup, let's calculate how hipster your playlist is. Aka what is the average popolarity of the songs on your selected playist on a scale of 1 to 100."
   ]
  },
  {
   "cell_type": "code",
   "execution_count": null,
   "metadata": {},
   "outputs": [],
   "source": [
    "popularity = []\n",
    "for i in songs['tracks']['items']:\n",
    "    popularity.append(i['track']['popularity'])\n",
    "median = np.median(popularity)\n",
    "mean = np.mean(popularity)\n",
    "print(f'Popularity median: {median}')\n",
    "print(f'Popularity mean: {mean}')\n",
    "pd.Series(popularity).hist(bins=10)"
   ]
  },
  {
   "cell_type": "markdown",
   "metadata": {},
   "source": [
    "Alright, with that out of the way, we are going to take a three step approach to collecting data about the songs in your playlist and creating a personalizes algorithm.\n",
    "\n",
    "Step 1 is to collect a large sample of potential recommended songs based off of Spotify's song recommendation API. We will do this based off of random combinations of songs and artitsts in your submitted playlist, combined with a random pool of artists and songs generated from the recommendations of that playlist."
   ]
  },
  {
   "cell_type": "code",
   "execution_count": null,
   "metadata": {},
   "outputs": [],
   "source": [
    "(track_ids, track_names, artist_ids, artist_names, rec_ids) = ([] for i in range(5))"
   ]
  },
  {
   "cell_type": "code",
   "execution_count": null,
   "metadata": {},
   "outputs": [],
   "source": [
    "for i in songs['tracks']['items']:\n",
    "    track_ids.append(i['track']['id'])\n",
    "    track_names.append(i['track']['name'])\n",
    "    for z in i['track']['artists']:\n",
    "        artist_ids.append(z['id'])\n",
    "        artist_names.append(z['name'])"
   ]
  },
  {
   "cell_type": "code",
   "execution_count": null,
   "metadata": {},
   "outputs": [],
   "source": [
    "def get_recs_from_seed(rng):\n",
    "    print(rng)\n",
    "    tracks = random.choices(track_ids, k=2)\n",
    "    artists = random.choices(artist_ids, k=2)\n",
    "    try:\n",
    "        rec_list = sp.recommendations(seed_tracks=tracks, seed_artists=artists, limit=10)\n",
    "        return [i['id'] for i in rec_list['tracks']]\n",
    "    except:\n",
    "        rec_list = [] \n",
    "        return rec_list"
   ]
  },
  {
   "cell_type": "code",
   "execution_count": null,
   "metadata": {},
   "outputs": [],
   "source": [
    "def get_recs_from_gen(rng):\n",
    "    print(rng)\n",
    "    tracks = random.choices(rec_ids, k=5)\n",
    "    rec_list = sp.recommendations(seed_tracks=tracks, limit=10)\n",
    "    try:\n",
    "        rec_list = sp.recommendations(seed_tracks=tracks, seed_artists=artists, limit=10)\n",
    "        return [i['id'] for i in rec_list['tracks']]\n",
    "    except:\n",
    "        rec_list = [] \n",
    "        return rec_list"
   ]
  },
  {
   "cell_type": "code",
   "execution_count": null,
   "metadata": {},
   "outputs": [],
   "source": [
    "with concurrent.futures.ThreadPoolExecutor(max_workers=10) as executor:\n",
    "    for ids in executor.map(get_recs_from_seed, range(10000)):\n",
    "        rec_ids.extend(ids)\n",
    "with concurrent.futures.ThreadPoolExecutor(max_workers=10) as executor:\n",
    "    for ids in executor.map(get_recs_from_gen, range(10000)):\n",
    "        rec_ids.extend(ids)"
   ]
  },
  {
   "cell_type": "code",
   "execution_count": null,
   "metadata": {},
   "outputs": [],
   "source": []
  },
  {
   "cell_type": "markdown",
   "metadata": {},
   "source": [
    "Step 2 is the most computationally intensive and will look to paint a picture of each song in your playlist. These literal pictures will be the foundation of our unsupervised learning algorithm. We will start to paint these pictures by retrieving information about each section and segment within a song. A section is defined by large variations in rhythm or timbre, e.g. chorus, verse, bridge, guitar solo, etc. Each section contains its own descriptions of tempo, key, mode, time_signature, and loudness. A segment attempts to subdivide a song into many segments, with each segment containing a roughly consitent sound throughout its duration."
   ]
  },
  {
   "cell_type": "markdown",
   "metadata": {},
   "source": [
    "Let's explore these concepts. Take a spotify id for a song that you found above and plug it into the variable song_id. We will look at the loudness of the song's sections and segments. Since segments are extremely short periods of time (a song will have hundreds to thousands of segments), we will cut the first half percent and back one percent of the song to avoid picking up the lack of sound before a song starts or when a song ends."
   ]
  },
  {
   "cell_type": "code",
   "execution_count": null,
   "metadata": {},
   "outputs": [],
   "source": [
    "song_id = ''\n",
    "audio_object = sp.audio_analysis(id=song_id)\n",
    "segment_loudness = [i['loudness_max'] for i in audio_object['segments']]\n",
    "half_percent = round(len(segment_loudness)/200)\n",
    "back_half = len(audio_object['segments']) - half_percent*2\n",
    "segment_loudness = segment_loudness[half_percent:back_half]\n",
    "pd.Series(segment_loudness).plot()"
   ]
  },
  {
   "cell_type": "code",
   "execution_count": null,
   "metadata": {},
   "outputs": [],
   "source": [
    "section_loudness = [i['loudness'] for i in audio_object['sections']]\n",
    "pd.Series(section_loudness).plot()"
   ]
  }
 ],
 "metadata": {
  "kernelspec": {
   "display_name": "Python 3",
   "language": "python",
   "name": "python3"
  },
  "language_info": {
   "codemirror_mode": {
    "name": "ipython",
    "version": 3
   },
   "file_extension": ".py",
   "mimetype": "text/x-python",
   "name": "python",
   "nbconvert_exporter": "python",
   "pygments_lexer": "ipython3",
   "version": "3.6.4"
  }
 },
 "nbformat": 4,
 "nbformat_minor": 2
}

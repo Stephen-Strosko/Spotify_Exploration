{
 "cells": [
  {
   "cell_type": "markdown",
   "metadata": {},
   "source": [
    "## Spotify Interactive - Beta\n",
    "This interactive notebook will walk you through the process of exploring your music intake as well as training an algorithm to correctly predict music that you will enjoy. To interact with this notebook you will need to have all of the required libraries downloaded and installed as well as Python. In addition, the user will need to sign up for Spotify for Developers here: https://developer.spotify.com/dashboard/login  You do not need to have Spotify Premium to sign up."
   ]
  },
  {
   "cell_type": "code",
   "execution_count": 1,
   "metadata": {},
   "outputs": [],
   "source": [
    "import json\n",
    "import requests\n",
    "import spotipy\n",
    "from spotipy.oauth2 import SpotifyClientCredentials\n",
    "import spotipy.util as util"
   ]
  },
  {
   "cell_type": "markdown",
   "metadata": {},
   "source": [
    "From your Spotify dashboard, get your username, client id, secret client id, and redirect website link. The redirct link can be made by going to Settings - Redirect URIs - Add. Add a simple redirect like a localhost. "
   ]
  },
  {
   "cell_type": "code",
   "execution_count": null,
   "metadata": {},
   "outputs": [],
   "source": [
    "username=\"\"\n",
    "cid =\"\" \n",
    "secret = \"\"\n",
    "redirect=\"\""
   ]
  },
  {
   "cell_type": "markdown",
   "metadata": {},
   "source": [
    "Input the scope you are interested in here. Scopes define the kind of query that you are going to make into your data. All of the scope options can be found here: https://developer.spotify.com/documentation/general/guides/scopes/#user-read-recently-played"
   ]
  },
  {
   "cell_type": "code",
   "execution_count": null,
   "metadata": {},
   "outputs": [],
   "source": [
    "# Suggested scope: playlist-read-private\n",
    "scope = \"\""
   ]
  },
  {
   "cell_type": "markdown",
   "metadata": {},
   "source": [
    "The next step is to authorize access to your backend Spotify data. Start by running the following code and then inserting the output into the variable `token`."
   ]
  },
  {
   "cell_type": "code",
   "execution_count": null,
   "metadata": {},
   "outputs": [],
   "source": [
    "util.prompt_for_user_token(username, scope, client_id=cid, client_secret=secret, redirect_uri=redirect)"
   ]
  },
  {
   "cell_type": "code",
   "execution_count": null,
   "metadata": {},
   "outputs": [],
   "source": [
    "token = \"\"\n",
    "sp = spotipy.Spotify(auth=token)"
   ]
  },
  {
   "cell_type": "markdown",
   "metadata": {},
   "source": [
    "Next we will choose the playlist that you want to use to explore your music tastes. Run the below code and insert into the variable `playlist` the name of the playlist you are interested in exploring. You can add the variabl `offset` with the desired offset number if you hvae more than 50 playlists. The printed result will be the playlist name and the playlist id."
   ]
  },
  {
   "cell_type": "code",
   "execution_count": null,
   "metadata": {},
   "outputs": [],
   "source": [
    "playlist = \"\"\n",
    "playlists = sp.current_user_playlists()\n",
    "for i in playlists['items']:\n",
    "    if i['name'] == playlist:\n",
    "        print(i['name'])\n",
    "        print(i['id'])"
   ]
  },
  {
   "cell_type": "markdown",
   "metadata": {},
   "source": [
    "Now let's explore the songs in the playlist that you chose. Plug the playlist id into the `playlist_id` variable and run the code. The output will list every song in the playlist that you chose with that song's Spotify id."
   ]
  },
  {
   "cell_type": "code",
   "execution_count": null,
   "metadata": {},
   "outputs": [],
   "source": [
    "songs = sp.user_playlist(username, playlist_id=\"\")\n",
    "for i in songs['tracks']['items']:\n",
    "    print('track: ' + i['track']['name'])\n",
    "    print('id: ' + i['track']['id'])"
   ]
  },
  {
   "cell_type": "code",
   "execution_count": null,
   "metadata": {},
   "outputs": [],
   "source": []
  },
  {
   "cell_type": "code",
   "execution_count": null,
   "metadata": {},
   "outputs": [],
   "source": []
  }
 ],
 "metadata": {
  "kernelspec": {
   "display_name": "Python 3",
   "language": "python",
   "name": "python3"
  },
  "language_info": {
   "codemirror_mode": {
    "name": "ipython",
    "version": 3
   },
   "file_extension": ".py",
   "mimetype": "text/x-python",
   "name": "python",
   "nbconvert_exporter": "python",
   "pygments_lexer": "ipython3",
   "version": "3.6.4"
  }
 },
 "nbformat": 4,
 "nbformat_minor": 2
}
